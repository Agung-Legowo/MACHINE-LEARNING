{
 "cells": [
  {
   "cell_type": "code",
   "execution_count": 4,
   "metadata": {},
   "outputs": [
    {
     "name": "stdout",
     "output_type": "stream",
     "text": [
      "Hasil Perkalian X*Y Adalah : 2 * 5 = 10\n"
     ]
    }
   ],
   "source": [
    "x=input(\"Masukkan Nilai X :\")\n",
    "y=input(\"Masukkan Nilai Y :\")\n",
    "print(\"Hasil Perkalian X*Y Adalah :\",x,'*',y,'=',int(x)*int(y))"
   ]
  }
 ],
 "metadata": {
  "kernelspec": {
   "display_name": "Python 3.10.7 64-bit",
   "language": "python",
   "name": "python3"
  },
  "language_info": {
   "codemirror_mode": {
    "name": "ipython",
    "version": 3
   },
   "file_extension": ".py",
   "mimetype": "text/x-python",
   "name": "python",
   "nbconvert_exporter": "python",
   "pygments_lexer": "ipython3",
   "version": "3.10.7"
  },
  "orig_nbformat": 4,
  "vscode": {
   "interpreter": {
    "hash": "cafc4b79299d07bdfbee0b7f5bf5619336e5540032667f5f21c98aeb1f1467bb"
   }
  }
 },
 "nbformat": 4,
 "nbformat_minor": 2
}
