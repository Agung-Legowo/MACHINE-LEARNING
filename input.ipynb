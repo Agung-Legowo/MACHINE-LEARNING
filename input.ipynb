{
 "cells": [
  {
   "cell_type": "code",
   "execution_count": 9,
   "metadata": {},
   "outputs": [
    {
     "name": "stdout",
     "output_type": "stream",
     "text": [
      "Hasil Perkaliannya Adalah : 20\n"
     ]
    }
   ],
   "source": [
    "a=input(\"Masukkan Nilai A :\")\n",
    "b=input(\"Masukkan Nilai B :\")\n",
    "a=4\n",
    "b=5\n",
    "c=a*b\n",
    "print(\"Hasil Perkaliannya Adalah :\", c)"
   ]
  }
 ],
 "metadata": {
  "kernelspec": {
   "display_name": "Python 3.10.7 64-bit",
   "language": "python",
   "name": "python3"
  },
  "language_info": {
   "codemirror_mode": {
    "name": "ipython",
    "version": 3
   },
   "file_extension": ".py",
   "mimetype": "text/x-python",
   "name": "python",
   "nbconvert_exporter": "python",
   "pygments_lexer": "ipython3",
   "version": "3.10.7"
  },
  "orig_nbformat": 4,
  "vscode": {
   "interpreter": {
    "hash": "cafc4b79299d07bdfbee0b7f5bf5619336e5540032667f5f21c98aeb1f1467bb"
   }
  }
 },
 "nbformat": 4,
 "nbformat_minor": 2
}
